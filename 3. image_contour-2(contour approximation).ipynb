{
 "cells": [
  {
   "cell_type": "markdown",
   "metadata": {},
   "source": [
    "반듯한(?) 형태를 얻기 위한 contour 근사"
   ]
  },
  {
   "cell_type": "code",
   "execution_count": 1,
   "metadata": {
    "collapsed": true
   },
   "outputs": [],
   "source": [
    "import cv2\n",
    "import cv2_plus"
   ]
  },
  {
   "cell_type": "code",
   "execution_count": 2,
   "metadata": {
    "collapsed": true
   },
   "outputs": [],
   "source": [
    "imgfile = 'images/contour2.png'\n",
    "img = cv2.imread(imgfile)"
   ]
  },
  {
   "cell_type": "code",
   "execution_count": 3,
   "metadata": {},
   "outputs": [
    {
     "data": {
      "image/png": "[encoded data removed]",
      "text/plain": [
       "<matplotlib.figure.Figure at 0x7841cc0>"
      ]
     },
     "metadata": {},
     "output_type": "display_data"
    }
   ],
   "source": [
    "cv2_plus.imshow(img, img_type=1)"
   ]
  },
  {
   "cell_type": "code",
   "execution_count": 4,
   "metadata": {
    "collapsed": true
   },
   "outputs": [],
   "source": [
    "imgray = cv2.cvtColor(img, cv2.COLOR_BGR2GRAY)"
   ]
  },
  {
   "cell_type": "code",
   "execution_count": 5,
   "metadata": {
    "collapsed": true
   },
   "outputs": [],
   "source": [
    "edge = cv2.Canny(imgray, 50, 100)"
   ]
  },
  {
   "cell_type": "markdown",
   "metadata": {},
   "source": [
    "cv2.CHAIN_APPROX_SIMPLE 옵션은 **수평, 수직, 대각선 방향의 직선상에 놓인 점들은 모두 버리며, 끝 점만 가져온다(시간, 메모리)**(cv2.CHAIN_APPROX_NONE은 전부 가져옴)"
   ]
  },
  {
   "cell_type": "code",
   "execution_count": 6,
   "metadata": {
    "collapsed": true
   },
   "outputs": [],
   "source": [
    "edge, contours, hierarchy = cv2.findContours(edge, cv2.RETR_TREE, cv2.CHAIN_APPROX_SIMPLE)"
   ]
  },
  {
   "cell_type": "code",
   "execution_count": 7,
   "metadata": {},
   "outputs": [
    {
     "data": {
      "image/png": "[encoded data removed]",
      "text/plain": [
       "<matplotlib.figure.Figure at 0x8667dd8>"
      ]
     },
     "metadata": {},
     "output_type": "display_data"
    }
   ],
   "source": [
    "cv2_plus.imshow(edge, img_type=0)"
   ]
  },
  {
   "cell_type": "markdown",
   "metadata": {},
   "source": [
    "contours의 class는 list 하지만 dtype을 봤을 때 contours 자체는 'O'(object)였다."
   ]
  },
  {
   "cell_type": "code",
   "execution_count": 8,
   "metadata": {},
   "outputs": [
    {
     "data": {
      "text/plain": [
       "4"
      ]
     },
     "execution_count": 8,
     "metadata": {},
     "output_type": "execute_result"
    }
   ],
   "source": [
    "len(contours)"
   ]
  },
  {
   "cell_type": "code",
   "execution_count": 9,
   "metadata": {},
   "outputs": [
    {
     "name": "stdout",
     "output_type": "stream",
     "text": [
      "<class 'list'>\n"
     ]
    }
   ],
   "source": [
    "print(type(contours))"
   ]
  },
  {
   "cell_type": "code",
   "execution_count": 10,
   "metadata": {},
   "outputs": [
    {
     "name": "stdout",
     "output_type": "stream",
     "text": [
      "(4,)\n"
     ]
    }
   ],
   "source": [
    "import numpy as np\n",
    "contours_copy= np.array(contours)\n",
    "print(contours_copy.shape)"
   ]
  },
  {
   "cell_type": "code",
   "execution_count": 11,
   "metadata": {},
   "outputs": [
    {
     "data": {
      "text/plain": [
       "dtype('O')"
      ]
     },
     "execution_count": 11,
     "metadata": {},
     "output_type": "execute_result"
    }
   ],
   "source": [
    "contours_copy.dtype"
   ]
  },
  {
   "cell_type": "code",
   "execution_count": 12,
   "metadata": {},
   "outputs": [
    {
     "data": {
      "text/plain": [
       "  C_CONTIGUOUS : True\n",
       "  F_CONTIGUOUS : True\n",
       "  OWNDATA : True\n",
       "  WRITEABLE : True\n",
       "  ALIGNED : True\n",
       "  UPDATEIFCOPY : False"
      ]
     },
     "execution_count": 12,
     "metadata": {},
     "output_type": "execute_result"
    }
   ],
   "source": [
    "contours_copy.flags"
   ]
  },
  {
   "cell_type": "code",
   "execution_count": 13,
   "metadata": {},
   "outputs": [
    {
     "name": "stdout",
     "output_type": "stream",
     "text": [
      "(4,)\n",
      "(126, 1, 2)\n",
      "(120, 1, 2)\n",
      "(81, 1, 2)\n",
      "(77, 1, 2)\n"
     ]
    }
   ],
   "source": [
    "print(contours_copy.shape)\n",
    "print(contours_copy[0].shape)\n",
    "print(contours_copy[1].shape)\n",
    "print(contours_copy[2].shape)\n",
    "print(contours_copy[3].shape)"
   ]
  },
  {
   "cell_type": "markdown",
   "metadata": {},
   "source": [
    "**contours[i][:]와 같이 접근**"
   ]
  },
  {
   "cell_type": "code",
   "execution_count": 14,
   "metadata": {},
   "outputs": [
    {
     "data": {
      "image/png": "[encoded data removed]",
      "text/plain": [
       "<matplotlib.figure.Figure at 0x86b8080>"
      ]
     },
     "metadata": {},
     "output_type": "display_data"
    }
   ],
   "source": [
    "img = cv2.imread(imgfile)\n",
    "cv2.drawContours(img, contours , -1, (255, 0 , 0), 4)\n",
    "cv2_plus.imshow(img, title = 'contour 전부 그렸을 경우')"
   ]
  },
  {
   "cell_type": "code",
   "execution_count": 15,
   "metadata": {},
   "outputs": [
    {
     "data": {
      "image/png": "[encoded data removed]",
      "text/plain": [
       "<matplotlib.figure.Figure at 0x9759be0>"
      ]
     },
     "metadata": {},
     "output_type": "display_data"
    }
   ],
   "source": [
    "img = cv2.imread(imgfile)\n",
    "cv2.drawContours(img, contours[0], -1, (255, 0 , 0), 10)\n",
    "cv2_plus.imshow(img, title = 'contour[0]만 그렸을 경우')"
   ]
  },
  {
   "cell_type": "code",
   "execution_count": 16,
   "metadata": {},
   "outputs": [
    {
     "data": {
      "image/png": "[encoded data removed]",
      "text/plain": [
       "<matplotlib.figure.Figure at 0x97ca978>"
      ]
     },
     "metadata": {},
     "output_type": "display_data"
    }
   ],
   "source": [
    "img = cv2.imread(imgfile)\n",
    "cv2.drawContours(img, contours[1], -1, (255, 0 , 0), 10)\n",
    "cv2_plus.imshow(img, title = 'contour[1]만 그렸을 경우')"
   ]
  },
  {
   "cell_type": "code",
   "execution_count": 17,
   "metadata": {},
   "outputs": [
    {
     "data": {
      "image/png": "[encoded data removed]",
      "text/plain": [
       "<matplotlib.figure.Figure at 0x9a37320>"
      ]
     },
     "metadata": {},
     "output_type": "display_data"
    }
   ],
   "source": [
    "img = cv2.imread(imgfile)\n",
    "cv2.drawContours(img, contours[2], -1, (255, 0 , 0), 10)\n",
    "cv2_plus.imshow(img, title = 'contour[2]만 그렸을 경우')"
   ]
  },
  {
   "cell_type": "code",
   "execution_count": 18,
   "metadata": {},
   "outputs": [
    {
     "data": {
      "image/png": "[encoded data removed]",
      "text/plain": [
       "<matplotlib.figure.Figure at 0x9a5e198>"
      ]
     },
     "metadata": {},
     "output_type": "display_data"
    }
   ],
   "source": [
    "img = cv2.imread(imgfile)\n",
    "cv2.drawContours(img, contours[3], -1, (255, 0 , 0), 10)\n",
    "cv2_plus.imshow(img, title = 'contour[3]만 그렸을 경우')"
   ]
  },
  {
   "cell_type": "code",
   "execution_count": 19,
   "metadata": {},
   "outputs": [
    {
     "data": {
      "image/png": "[encoded data removed]",
      "text/plain": [
       "<matplotlib.figure.Figure at 0x8667da0>"
      ]
     },
     "metadata": {},
     "output_type": "display_data"
    }
   ],
   "source": [
    "img = cv2.imread(imgfile)\n",
    "cv2.drawContours(img, contours[0], -1, (0, 255, 0), 20)\n",
    "cv2.drawContours(img, contours[1], -1, (255, 0 , 0), 10)\n",
    "cv2.drawContours(img, contours[2], -1, (0, 0 , 255), 10)\n",
    "cv2_plus.imshow(img, title = 'contour[0], contour[1], contour[2], contour[3] 구분해서 그렸을 경우')"
   ]
  },
  {
   "cell_type": "markdown",
   "metadata": {},
   "source": [
    "**근데 위에서 모든 contour[0],contour[1],contour[2],contour[3]을 그렸지만 전체를 전체 윤곽을 그려주지 않는다.**<br>\n",
    "그 이유는 바로 cv2.CHAIN_APPROX_SIMPLE 옵션 때문이다. 이 옵션은 **수평, 수직, 대각선 방향의 직선상에 놓인 점들은 모두 버리며, 끝 점만 가져온다**.<br>\n",
    "만약 cv2.CHAIN_APPROX_NONE 옵션을 사용한다면 다 그려진다.<br>\n"
   ]
  },
  {
   "cell_type": "markdown",
   "metadata": {},
   "source": [
    "**Contour Area** : 폐곡선 형태로 contour에 둘러싸인 부분의 면적<br>\n",
    "**Contour Perimeter** : Contour 호의 길이<br>"
   ]
  },
  {
   "cell_type": "markdown",
   "metadata": {},
   "source": [
    "**cv2.contourArea(cnt, bool)**\n",
    "- cnt : contour\n",
    "- bool : True(폐곡선) or False(개곡선)\n",
    "\n",
    "Contour의 둘레 길이를 return"
   ]
  },
  {
   "cell_type": "markdown",
   "metadata": {},
   "source": [
    "cv2.arcLength(contours, True)\n",
    "- contours의 둘레 길이 return "
   ]
  },
  {
   "cell_type": "code",
   "execution_count": 20,
   "metadata": {},
   "outputs": [],
   "source": [
    "epsilon = 0.05 * cv2.arcLength(contours[0], True)# 둘레 길이의 10%만 활용"
   ]
  },
  {
   "cell_type": "markdown",
   "metadata": {},
   "source": [
    "epsilon 은 근사정확도로 사용한다."
   ]
  },
  {
   "cell_type": "markdown",
   "metadata": {},
   "source": [
    "### Contour Approximation\n",
    "contours line은 각각의 contours point를 가지며, 이 point를 연결하여 line을 그리는데 이 point 수를 줄여 근사를 수행해 line을 그리는 방법\n",
    "[Douglas-Peucker 알고리즘](https://en.wikipedia.org/wiki/Ramer%E2%80%93Douglas%E2%80%93Peucker_algorithm)을 사용한다.\n"
   ]
  },
  {
   "cell_type": "markdown",
   "metadata": {},
   "source": [
    "cv2.approxPolyDP(cnt, epsilon, closed[, approxCurve]) → approxCurve\n",
    "- cnt : contours point array\n",
    "- epsilon : 근사 정확도 값. 이 값은 오리지널 커브와 근사 커브간 거리의 최대값으로 사용한다.<br>\n",
    "최대거리가 클수록 더 먼 곳의 Point까지 고려하기 때문에 Point 수가 줄어든다고함. <br>\n",
    "- closed : 폐곡선 여부"
   ]
  },
  {
   "cell_type": "markdown",
   "metadata": {},
   "source": [
    "**epsilon이 크면 클수록 꼭지점의 개수가 줄어듬 = 근사화 정도가 커짐**"
   ]
  },
  {
   "cell_type": "code",
   "execution_count": 21,
   "metadata": {
    "collapsed": true
   },
   "outputs": [],
   "source": [
    "approx = cv2.approxPolyDP(contours[0], epsilon, True)"
   ]
  },
  {
   "cell_type": "code",
   "execution_count": 22,
   "metadata": {},
   "outputs": [
    {
     "data": {
      "image/png": "[encoded data removed]",
      "text/plain": [
       "<matplotlib.figure.Figure at 0x8252c88>"
      ]
     },
     "metadata": {},
     "output_type": "display_data"
    }
   ],
   "source": [
    "img = cv2.imread(imgfile)\n",
    "img2 = img.copy()\n",
    "\n",
    "# contour 그리기\n",
    "cv2.drawContours(img, [approx], 0, (255, 0, 0), 3)\n",
    "\n",
    "# 이미지 띄우기\n",
    "cv2_plus.imshow(img,title = 'contours approximation', fig_size = (12,6))"
   ]
  },
  {
   "cell_type": "markdown",
   "metadata": {},
   "source": [
    "일반적으로 2%~5%정도 설정하면 된단다. epsilon 계수를<br>\n",
    "위의 경우 많이 일그러져 있어서 그럼"
   ]
  },
  {
   "cell_type": "markdown",
   "metadata": {},
   "source": [
    "### epsilon 변화에 따른 contours\n",
    "epsilon이 클수록 근사화가 높아짐"
   ]
  },
  {
   "cell_type": "code",
   "execution_count": 23,
   "metadata": {
    "collapsed": true
   },
   "outputs": [],
   "source": [
    "epsilon15 = 0.15 * cv2.arcLength(contours[0], True)\n",
    "approx15 = cv2.approxPolyDP(contours[0], epsilon15, True)\n",
    "\n",
    "\n",
    "epsilon7 = 0.07 * cv2.arcLength(contours[0], True)\n",
    "approx7 = cv2.approxPolyDP(contours[0], epsilon7, True)\n",
    "\n",
    "epsilon1 = 0.01 * cv2.arcLength(contours[0], True)\n",
    "approx1 = cv2.approxPolyDP(contours[0], epsilon1, True)\n",
    "\n",
    "epsilon01 = 0.001 * cv2.arcLength(contours[0], True)\n",
    "approx01 = cv2.approxPolyDP(contours[0], epsilon01, True)"
   ]
  },
  {
   "cell_type": "code",
   "execution_count": 24,
   "metadata": {},
   "outputs": [
    {
     "data": {
      "image/png": "[encoded data removed]",
      "text/plain": [
       "<matplotlib.figure.Figure at 0x9d0e278>"
      ]
     },
     "metadata": {},
     "output_type": "display_data"
    },
    {
     "data": {
      "image/png": "[encoded data removed]",
      "text/plain": [
       "<matplotlib.figure.Figure at 0x9d49128>"
      ]
     },
     "metadata": {},
     "output_type": "display_data"
    },
    {
     "data": {
      "image/png": "[encoded data removed]",
      "text/plain": [
       "<matplotlib.figure.Figure at 0x9d730b8>"
      ]
     },
     "metadata": {},
     "output_type": "display_data"
    },
    {
     "data": {
      "image/png": "[encoded data removed]",
      "text/plain": [
       "<matplotlib.figure.Figure at 0x9d12470>"
      ]
     },
     "metadata": {},
     "output_type": "display_data"
    }
   ],
   "source": [
    "img1 = cv2.imread(imgfile)\n",
    "img2 = img1.copy()\n",
    "img3 = img1.copy()\n",
    "img4 = img1.copy()\n",
    "\n",
    "cv2.drawContours(img1, [approx15], 0, (255, 0, 0), 3)\n",
    "cv2_plus.imshow(img1,title = 'approx15%', fig_size = (12,6))\n",
    "cv2.drawContours(img2, [approx7], 0, (255, 0, 0), 3)\n",
    "cv2_plus.imshow(img2,title = 'approx7%', fig_size = (12,6))\n",
    "cv2.drawContours(img3, [approx1], 0, (255, 0, 0), 3)\n",
    "cv2_plus.imshow(img3,title = 'approx1%', fig_size = (12,6))\n",
    "cv2.drawContours(img4, [approx01], 0, (255, 0, 0), 3)\n",
    "cv2_plus.imshow(img4,title = 'approx0.1%', fig_size = (12,6))\n"
   ]
  },
  {
   "cell_type": "code",
   "execution_count": null,
   "metadata": {
    "collapsed": true
   },
   "outputs": [],
   "source": []
  },
  {
   "cell_type": "code",
   "execution_count": null,
   "metadata": {
    "collapsed": true
   },
   "outputs": [],
   "source": []
  }
 ],
 "metadata": {
  "kernelspec": {
   "display_name": "Python 3",
   "language": "python",
   "name": "python3"
  },
  "language_info": {
   "codemirror_mode": {
    "name": "ipython",
    "version": 3
   },
   "file_extension": ".py",
   "mimetype": "text/x-python",
   "name": "python",
   "nbconvert_exporter": "python",
   "pygments_lexer": "ipython3",
   "version": "3.5.3"
  }
 },
 "nbformat": 4,
 "nbformat_minor": 2
}

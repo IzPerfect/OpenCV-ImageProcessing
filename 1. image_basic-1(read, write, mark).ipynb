{
 "cells": [
  {
   "cell_type": "code",
   "execution_count": 1,
   "metadata": {
    "collapsed": true
   },
   "outputs": [],
   "source": [
    "import cv2\n",
    "from matplotlib import pyplot as plt \n",
    "import numpy as np"
   ]
  },
  {
   "cell_type": "code",
   "execution_count": 2,
   "metadata": {
    "collapsed": true
   },
   "outputs": [],
   "source": [
    "imgfile = 'images/sample.png'"
   ]
  },
  {
   "cell_type": "markdown",
   "metadata": {},
   "source": [
    "imread : 이미지를 읽기 위한 객체 return"
   ]
  },
  {
   "cell_type": "markdown",
   "metadata": {},
   "source": [
    "cv2.imread(fileName, flag)\n",
    "- fileName : 이미지파일의 경로, str 타입\n",
    "- flag : 이미지 파일을 읽을 때의 Option, int 타입\n",
    "- Return : image 객체 행렬, numpy.ndarray 타입\n",
    "    \n",
    "    "
   ]
  },
  {
   "cell_type": "markdown",
   "metadata": {},
   "source": [
    "flag option 3가지<br>\n",
    "- cv2.IMREAD_COLOR(1) : 이미지 파일을 Color로 읽음, 투명한 부분은 무시하며 Default 설정<br>\n",
    "- cv2.IMREAD_GRAYSCALE(0) : 이미지 파일을 Grayscale로 읽음<br>\n",
    "- cv2.IMREAD_UNCHANGED(-1) : 이미지 파일을 alpha channel까지 포함해 read<br>    "
   ]
  },
  {
   "cell_type": "markdown",
   "metadata": {},
   "source": [
    "#### cv2.imread는 BGR순으로 데이터를 저장한다."
   ]
  },
  {
   "cell_type": "code",
   "execution_count": 3,
   "metadata": {
    "collapsed": true
   },
   "outputs": [],
   "source": [
    "#img = cv2.imread(imgfile, cv2.IMREAD_COLOR)\n",
    "img1 = cv2.imread(imgfile, 1) # color로 읽음"
   ]
  },
  {
   "cell_type": "markdown",
   "metadata": {},
   "source": [
    "(Y축, X축, 원소개수)<br>\n",
    "여기서 원소개수는 BGR(Blue, Green, Red)이다."
   ]
  },
  {
   "cell_type": "code",
   "execution_count": 4,
   "metadata": {},
   "outputs": [
    {
     "data": {
      "text/plain": [
       "(150, 225, 3)"
      ]
     },
     "execution_count": 4,
     "metadata": {},
     "output_type": "execute_result"
    }
   ],
   "source": [
    "img1.shape"
   ]
  },
  {
   "cell_type": "markdown",
   "metadata": {},
   "source": [
    "cv2.imshow(title, image)\n",
    "- title : 윈도우 창의 제목, str 타입\n",
    "- image : return 값, numpy.ndarray 타입 "
   ]
  },
  {
   "cell_type": "markdown",
   "metadata": {},
   "source": [
    "cv2.waitKey() : keyboard입력을 대기하는 함수, 0이면 무한정 대기이며 특정시간을 넣어주면 그 시간만큼 이미지를 보여준다."
   ]
  },
  {
   "cell_type": "markdown",
   "metadata": {},
   "source": [
    "cv2.destroyAllWindows() : 화면에 나타난 윈도우를 종료 <br>\n",
    "마지막 줄에 cv2.waitKey(1)는 이게 있어야 버그가 걸리지 않아 넣어둠 원래는 없어도 되는 코드라함"
   ]
  },
  {
   "cell_type": "code",
   "execution_count": 5,
   "metadata": {},
   "outputs": [
    {
     "data": {
      "text/plain": [
       "\"\\ncv2.imshow('image', img1)\\n\\ncv2.waitKey(0)\\ncv2.destroyAllWindows() \\ncv2.waitKey(1)\\n\""
      ]
     },
     "execution_count": 5,
     "metadata": {},
     "output_type": "execute_result"
    }
   ],
   "source": [
    "'''\n",
    "cv2.imshow('image', img1)\n",
    "\n",
    "cv2.waitKey(0)\n",
    "cv2.destroyAllWindows() \n",
    "cv2.waitKey(1)\n",
    "'''"
   ]
  },
  {
   "cell_type": "markdown",
   "metadata": {},
   "source": [
    "위의 그림에서 바다의 돌고래 그림이 또 다른 창을 통해 나온다.<br> \n",
    "하지만 밑의 plt.imshow()를 사용하게 되면 색이 다르게 나오게 되는 것을 볼 수 있다.<br>\n",
    "그 이유는 **OpenCV의 경우 BGR의 순서대로 이미지를 저장하고**<br>\n",
    "**matplotlib은 RGB순으로 저장**하기 때문 따라서 바꾸어 주어야 한다.<br>\n",
    "\n",
    "refer to https://www.pyimagesearch.com/2014/11/03/display-matplotlib-rgb-image/"
   ]
  },
  {
   "cell_type": "code",
   "execution_count": 6,
   "metadata": {},
   "outputs": [
    {
     "data": {
      "image/png": "[encoded data removed]",
      "text/plain": [
       "<matplotlib.figure.Figure at 0x8291eb8>"
      ]
     },
     "metadata": {},
     "output_type": "display_data"
    }
   ],
   "source": [
    "plt.imshow(img1)\n",
    "plt.show()"
   ]
  },
  {
   "cell_type": "markdown",
   "metadata": {},
   "source": [
    "### BGR로 저장된 img1 파일을 RGB로 바꾸어 출력"
   ]
  },
  {
   "cell_type": "code",
   "execution_count": 7,
   "metadata": {},
   "outputs": [
    {
     "data": {
      "image/png": "[encoded data removed]",
      "text/plain": [
       "<matplotlib.figure.Figure at 0x4b85358>"
      ]
     },
     "metadata": {},
     "output_type": "display_data"
    }
   ],
   "source": [
    "plt.imshow(cv2.cvtColor(img1, cv2.COLOR_BGR2RGB))\n",
    "plt.show()"
   ]
  },
  {
   "cell_type": "code",
   "execution_count": null,
   "metadata": {
    "collapsed": true
   },
   "outputs": [],
   "source": []
  }
 ],
 "metadata": {
  "kernelspec": {
   "display_name": "Python 3",
   "language": "python",
   "name": "python3"
  },
  "language_info": {
   "codemirror_mode": {
    "name": "ipython",
    "version": 3
   },
   "file_extension": ".py",
   "mimetype": "text/x-python",
   "name": "python",
   "nbconvert_exporter": "python",
   "pygments_lexer": "ipython3",
   "version": "3.5.3"
  }
 },
 "nbformat": 4,
 "nbformat_minor": 2
}

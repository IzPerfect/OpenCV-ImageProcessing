{
 "cells": [
  {
   "cell_type": "markdown",
   "metadata": {},
   "source": [
    "- 윈도우 창 크기 조절<br>\n",
    "- 특정 키 입력 시에 이미지 저장<br>"
   ]
  },
  {
   "cell_type": "code",
   "execution_count": 1,
   "metadata": {
    "collapsed": true
   },
   "outputs": [],
   "source": [
    "import cv2"
   ]
  },
  {
   "cell_type": "code",
   "execution_count": 2,
   "metadata": {
    "collapsed": true
   },
   "outputs": [],
   "source": [
    "imgfile = 'images/sample.png'"
   ]
  },
  {
   "cell_type": "markdown",
   "metadata": {},
   "source": [
    "흑백으로 read"
   ]
  },
  {
   "cell_type": "code",
   "execution_count": 3,
   "metadata": {},
   "outputs": [],
   "source": [
    "img1 = cv2.imread(imgfile, 1) # color로 읽음"
   ]
  },
  {
   "cell_type": "code",
   "execution_count": 4,
   "metadata": {
    "collapsed": true
   },
   "outputs": [],
   "source": [
    "img2 = cv2.imread(imgfile, 0) # GaryScale로 읽음\n",
    "img3 = cv2.imread(imgfile, -1) # alpha channel까지 포함해 read"
   ]
  },
  {
   "cell_type": "markdown",
   "metadata": {},
   "source": [
    "cv2.namedWindow(title, flag)\n",
    "- cv2.WINDOW_NORMAL : 원본 이미지 크기 윈도우를 생성하고 사용자가 크기 조절할 수 있음\n",
    "- cv2.WINDOW_AUTOSIZE : 원본 이미지 크기로 고정하여 윈도우 생성\n",
    "- title : 여기서 title은 imshow의 title과 동일해야함"
   ]
  },
  {
   "cell_type": "code",
   "execution_count": 5,
   "metadata": {
    "collapsed": true
   },
   "outputs": [],
   "source": [
    "cv2.namedWindow('image1', cv2.WINDOW_NORMAL)\n",
    "cv2.imshow('image1', img1)\n",
    "\n",
    "cv2.namedWindow('image2', cv2.WINDOW_AUTOSIZE)\n",
    "cv2.imshow('image2', img2)\n",
    "\n",
    "cv2.namedWindow('image3', cv2.WINDOW_NORMAL)\n",
    "cv2.imshow('image3', img3)"
   ]
  },
  {
   "cell_type": "markdown",
   "metadata": {},
   "source": [
    "cv2.imshow(title, image)\n",
    "- title : 윈도우 창의 제목, str 타입\n",
    "- image : return 값, numpy.ndarray 타입 "
   ]
  },
  {
   "cell_type": "code",
   "execution_count": 6,
   "metadata": {
    "collapsed": true
   },
   "outputs": [],
   "source": [
    "# ASCII코드 값을 return해서 k에 저장\n",
    "k = cv2.waitKey(0)\n",
    "\n",
    "# 여기서 27은 ESC를 의미\n",
    "if k == 27:\n",
    "    cv2.destroyAllWindows()\n",
    "    cv2.waitKey(1)\n",
    "# ord('s')는 's'의 ASCII 코드 값을 의미한다.\n",
    "elif k == ord('s'):\n",
    "    cv2.imwrite('ColorImage.png', img1)\n",
    "    cv2.imwrite('grayImage.png', img2)\n",
    "    cv2.imwrite('AlphaImage.png', img3)\n",
    "    cv2.destroyAllWindows()\n",
    "    cv2.waitKey(1)"
   ]
  },
  {
   "cell_type": "markdown",
   "metadata": {},
   "source": [
    "cv2.imwrite(fileName, image)\n",
    "- fileName : 저장될 파일명\n",
    "- image : 저장할 이미지"
   ]
  }
 ],
 "metadata": {
  "kernelspec": {
   "display_name": "Python 3",
   "language": "python",
   "name": "python3"
  },
  "language_info": {
   "codemirror_mode": {
    "name": "ipython",
    "version": 3
   },
   "file_extension": ".py",
   "mimetype": "text/x-python",
   "name": "python",
   "nbconvert_exporter": "python",
   "pygments_lexer": "ipython3",
   "version": "3.5.3"
  }
 },
 "nbformat": 4,
 "nbformat_minor": 2
}
